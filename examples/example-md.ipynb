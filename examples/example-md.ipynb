{
 "cells": [
  {
   "cell_type": "markdown",
   "metadata": {},
   "source": [
    "GitLab formats outputs as HTML but limits height. So there is an option to render outputs of langsnapy as markdown."
   ]
  },
  {
   "cell_type": "code",
   "execution_count": 1,
   "metadata": {
    "editable": true,
    "slideshow": {
     "slide_type": ""
    },
    "tags": []
   },
   "outputs": [],
   "source": [
    "from pathlib import Path\n",
    "from IPython.display import display_markdown\n",
    "from langsnapy import Project, Case\n",
    "\n",
    "\n",
    "prj = Project(\n",
    "    snapshot_folder_path=Path(\"./local-example-snapshots\")\n",
    ")\n",
    "\n",
    "questions = [\n",
    "    \"Привіт Петре! Як справи?\",\n",
    "    \"Generate tons of code for me!\",\n",
    "    \"Do something else!\",\n",
    "    \"Do something else 2!\",\n",
    "    \"Do something else 3!\",\n",
    "    \"Do something else 4!\",\n",
    "]\n",
    "\n",
    "cases = [Case(q) for q in questions]"
   ]
  },
  {
   "cell_type": "code",
   "execution_count": 2,
   "metadata": {
    "editable": true,
    "slideshow": {
     "slide_type": ""
    },
    "tags": []
   },
   "outputs": [
    {
     "data": {
      "text/markdown": [
       "- __time_stamp:__ 2023-12-27 22:43:13.570552\n",
       "#### Inquiry: Привіт Петре! Як справи?\n",
       "<p>Answer to Привіт Петре! Як справи? is 42<br />Згенеровано at 2023-12-27 22:43:13.570559!</p>\n",
       "<div>        <b>duration (sec):</b> 0    </div>\n",
       "\n",
       "#### Inquiry: Generate tons of code for me!\n",
       "<p>Answer to Generate tons of code for me! is 42<br />Згенеровано at 2023-12-27 22:43:13.570571!</p>\n",
       "<div>        <b>duration (sec):</b> 0    </div>\n",
       "\n",
       "#### Inquiry: Do something else!\n",
       "<p>Answer to Do something else! is 42<br />Згенеровано at 2023-12-27 22:43:13.570576!</p>\n",
       "<div>        <b>duration (sec):</b> 0    </div>\n",
       "\n",
       "#### Inquiry: Do something else 2!\n",
       "<p>Answer to Do something else 2! is 42<br />Згенеровано at 2023-12-27 22:43:13.570579!</p>\n",
       "<div>        <b>duration (sec):</b> 0    </div>\n",
       "\n",
       "#### Inquiry: Do something else 3!\n",
       "<p>Answer to Do something else 3! is 42<br />Згенеровано at 2023-12-27 22:43:13.570582!</p>\n",
       "<div>        <b>duration (sec):</b> 0    </div>\n",
       "\n",
       "#### Inquiry: Do something else 4!\n",
       "<p>Answer to Do something else 4! is 42<br />Згенеровано at 2023-12-27 22:43:13.570585!</p>\n",
       "<div>        <b>duration (sec):</b> 0    </div>\n",
       "\n"
      ]
     },
     "metadata": {},
     "output_type": "display_data"
    }
   ],
   "source": [
    "# First run\n",
    "\n",
    "def generate_answer_1(case: Case) -> str:\n",
    "    from datetime import datetime\n",
    "    # Here should be call to LLM, or model, or API\n",
    "    return f\"\"\"Answer to {case.inquiry} is 42\n",
    "Згенеровано at {datetime.now()}!\"\"\"\n",
    "\n",
    "display_markdown(prj.run_cases(\n",
    "    cases=cases,\n",
    "    runner=generate_answer_1\n",
    "))"
   ]
  },
  {
   "cell_type": "code",
   "execution_count": 3,
   "metadata": {
    "editable": true,
    "slideshow": {
     "slide_type": ""
    },
    "tags": []
   },
   "outputs": [
    {
     "data": {
      "text/markdown": [
       "- __time_stamp:__ 2023-12-27 22:43:15.604519\n",
       "#### Inquiry: Привіт Петре! Як справи?\n",
       "<p>Answer to Привіт Петре! Як справи? is 84</p><pre><code class=\"language-python\">print(&quot;Hello world!&quot;)</code></pre><p>Згенеровано at 2023-12-27 22:43:15.604538!</p>\n",
       "<div>        <b>duration (sec):</b> 0    </div>\n",
       "\n",
       "#### Inquiry: Generate tons of code for me!\n",
       "<p>Answer to Generate tons of code for me! is 84</p><pre><code class=\"language-python\">print(&quot;Hello world!&quot;)</code></pre><p>Згенеровано at 2023-12-27 22:43:15.604566!</p>\n",
       "<div>        <b>duration (sec):</b> 0    </div>\n",
       "\n",
       "#### Inquiry: Do something else!\n",
       "<p>Answer to Do something else! is 84</p><pre><code class=\"language-python\">print(&quot;Hello world!&quot;)</code></pre><p>Згенеровано at 2023-12-27 22:43:15.604575!</p>\n",
       "<div>        <b>duration (sec):</b> 0    </div>\n",
       "\n",
       "#### Inquiry: Do something else 2!\n",
       "<p>Answer to Do something else 2! is 84</p><pre><code class=\"language-python\">print(&quot;Hello world!&quot;)</code></pre><p>Згенеровано at 2023-12-27 22:43:15.604581!</p>\n",
       "<div>        <b>duration (sec):</b> 0    </div>\n",
       "\n",
       "#### Inquiry: Do something else 3!\n",
       "<p>Answer to Do something else 3! is 84</p><pre><code class=\"language-python\">print(&quot;Hello world!&quot;)</code></pre><p>Згенеровано at 2023-12-27 22:43:15.604586!</p>\n",
       "<div>        <b>duration (sec):</b> 0    </div>\n",
       "\n",
       "#### Inquiry: Do something else 4!\n",
       "<p>Answer to Do something else 4! is 84</p><pre><code class=\"language-python\">print(&quot;Hello world!&quot;)</code></pre><p>Згенеровано at 2023-12-27 22:43:15.604591!</p>\n",
       "<div>        <b>duration (sec):</b> 0    </div>\n",
       "\n"
      ]
     },
     "metadata": {},
     "output_type": "display_data"
    }
   ],
   "source": [
    "# Second run\n",
    "import time\n",
    "time.sleep(2)\n",
    "\n",
    "def generate_answer_2(case: Case) -> str:\n",
    "    from datetime import datetime\n",
    "    # Here should be call to LLM, or model, or API\n",
    "    return f\"\"\"Answer to {case.inquiry} is 84\n",
    "```python\n",
    "print(\"Hello world!\")\n",
    "```\n",
    "Згенеровано at {datetime.now()}!\"\"\"\n",
    "\n",
    "display_markdown(prj.run_cases(\n",
    "    cases=cases,\n",
    "    runner=generate_answer_2\n",
    "))"
   ]
  },
  {
   "cell_type": "code",
   "execution_count": 4,
   "metadata": {
    "editable": true,
    "slideshow": {
     "slide_type": ""
    },
    "tags": []
   },
   "outputs": [
    {
     "data": {
      "text/markdown": [
       "| <!-- --> | <!-- --> |\n",
       "| -------- | -------- |\n",
       "|<ul><li><strong>time_stamp:</strong> 2023-12-27 22:43:13.570552</li></ul>|<ul><li><strong>time_stamp:</strong> 2023-12-27 22:43:15.604519</li></ul>|\n",
       "#### Inquiry: Привіт Петре! Як справи?\n",
       "| <!-- --> | <!-- --> |\n",
       "| -------- | -------- |\n",
       "|<div style=\"text-align:left; vertical-align:top;\">                <p>Answer to Привіт Петре! Як справи? is 42<br />Згенеровано at 2023-12-27 22:43:13.570559!</p>            </div>        <div>        <b>duration (sec):</b> 0    </div>|<div style=\"text-align:left; vertical-align:top;\">                <p>Answer to Привіт Петре! Як справи? is 84</p><pre><code class=\"language-python\">print(&quot;Hello world!&quot;)</code></pre><p>Згенеровано at 2023-12-27 22:43:15.604538!</p>            </div>        <div>        <b>duration (sec):</b> 0    </div>|\n",
       "#### Inquiry: Generate tons of code for me!\n",
       "| <!-- --> | <!-- --> |\n",
       "| -------- | -------- |\n",
       "|<div style=\"text-align:left; vertical-align:top;\">                <p>Answer to Generate tons of code for me! is 42<br />Згенеровано at 2023-12-27 22:43:13.570571!</p>            </div>        <div>        <b>duration (sec):</b> 0    </div>|<div style=\"text-align:left; vertical-align:top;\">                <p>Answer to Generate tons of code for me! is 84</p><pre><code class=\"language-python\">print(&quot;Hello world!&quot;)</code></pre><p>Згенеровано at 2023-12-27 22:43:15.604566!</p>            </div>        <div>        <b>duration (sec):</b> 0    </div>|\n",
       "#### Inquiry: Do something else!\n",
       "| <!-- --> | <!-- --> |\n",
       "| -------- | -------- |\n",
       "|<div style=\"text-align:left; vertical-align:top;\">                <p>Answer to Do something else! is 42<br />Згенеровано at 2023-12-27 22:43:13.570576!</p>            </div>        <div>        <b>duration (sec):</b> 0    </div>|<div style=\"text-align:left; vertical-align:top;\">                <p>Answer to Do something else! is 84</p><pre><code class=\"language-python\">print(&quot;Hello world!&quot;)</code></pre><p>Згенеровано at 2023-12-27 22:43:15.604575!</p>            </div>        <div>        <b>duration (sec):</b> 0    </div>|\n",
       "#### Inquiry: Do something else 2!\n",
       "| <!-- --> | <!-- --> |\n",
       "| -------- | -------- |\n",
       "|<div style=\"text-align:left; vertical-align:top;\">                <p>Answer to Do something else 2! is 42<br />Згенеровано at 2023-12-27 22:43:13.570579!</p>            </div>        <div>        <b>duration (sec):</b> 0    </div>|<div style=\"text-align:left; vertical-align:top;\">                <p>Answer to Do something else 2! is 84</p><pre><code class=\"language-python\">print(&quot;Hello world!&quot;)</code></pre><p>Згенеровано at 2023-12-27 22:43:15.604581!</p>            </div>        <div>        <b>duration (sec):</b> 0    </div>|\n",
       "#### Inquiry: Do something else 3!\n",
       "| <!-- --> | <!-- --> |\n",
       "| -------- | -------- |\n",
       "|<div style=\"text-align:left; vertical-align:top;\">                <p>Answer to Do something else 3! is 42<br />Згенеровано at 2023-12-27 22:43:13.570582!</p>            </div>        <div>        <b>duration (sec):</b> 0    </div>|<div style=\"text-align:left; vertical-align:top;\">                <p>Answer to Do something else 3! is 84</p><pre><code class=\"language-python\">print(&quot;Hello world!&quot;)</code></pre><p>Згенеровано at 2023-12-27 22:43:15.604586!</p>            </div>        <div>        <b>duration (sec):</b> 0    </div>|\n",
       "#### Inquiry: Do something else 4!\n",
       "| <!-- --> | <!-- --> |\n",
       "| -------- | -------- |\n",
       "|<div style=\"text-align:left; vertical-align:top;\">                <p>Answer to Do something else 4! is 42<br />Згенеровано at 2023-12-27 22:43:13.570585!</p>            </div>        <div>        <b>duration (sec):</b> 0    </div>|<div style=\"text-align:left; vertical-align:top;\">                <p>Answer to Do something else 4! is 84</p><pre><code class=\"language-python\">print(&quot;Hello world!&quot;)</code></pre><p>Згенеровано at 2023-12-27 22:43:15.604591!</p>            </div>        <div>        <b>duration (sec):</b> 0    </div>|\n"
      ]
     },
     "metadata": {},
     "output_type": "display_data"
    }
   ],
   "source": [
    "display_markdown(prj.compare_last_two_snapshots())"
   ]
  },
  {
   "cell_type": "code",
   "execution_count": null,
   "metadata": {
    "editable": true,
    "slideshow": {
     "slide_type": ""
    },
    "tags": []
   },
   "outputs": [],
   "source": []
  }
 ],
 "metadata": {
  "kernelspec": {
   "display_name": "Python 3 (ipykernel)",
   "language": "python",
   "name": "python3"
  },
  "language_info": {
   "codemirror_mode": {
    "name": "ipython",
    "version": 3
   },
   "file_extension": ".py",
   "mimetype": "text/x-python",
   "name": "python",
   "nbconvert_exporter": "python",
   "pygments_lexer": "ipython3",
   "version": "3.11.6"
  }
 },
 "nbformat": 4,
 "nbformat_minor": 4
}
