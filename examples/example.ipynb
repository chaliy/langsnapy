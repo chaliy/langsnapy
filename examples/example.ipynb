{
 "cells": [
  {
   "cell_type": "code",
   "execution_count": 1,
   "metadata": {
    "editable": true,
    "slideshow": {
     "slide_type": ""
    },
    "tags": []
   },
   "outputs": [],
   "source": [
    "from pathlib import Path\n",
    "from langsnapy import Project, Case\n",
    "\n",
    "prj = Project(\n",
    "    snapshot_folder_path=Path(\"./local-example-snapshots\")\n",
    ")\n",
    "\n",
    "questions = [\n",
    "    \"Привіт Петре! Як справи?\",\n",
    "    \"Generate tons of code for me!\",\n",
    "    \"Do something else!\",\n",
    "]\n",
    "\n",
    "cases = [Case(q) for q in questions]"
   ]
  },
  {
   "cell_type": "code",
   "execution_count": 2,
   "metadata": {
    "editable": true,
    "slideshow": {
     "slide_type": ""
    },
    "tags": []
   },
   "outputs": [
    {
     "data": {
      "text/html": [
       "<table style=\"text-align:left; width: 100%; table-layout: fixed\"><tr>\n",
       "            <td style=\"text-align:left; vertical-align:top;\">\n",
       "                <ul>\n",
       "<li><strong>time_stamp:</strong> 2023-12-17 12:05:03.127081</li>\n",
       "</ul>\n",
       "\n",
       "            </td><tr>\n",
       "                <td style=\"text-align:left;\">\n",
       "                    <b>Inquery: Привіт Петре! Як справи?</b>\n",
       "                </td>\n",
       "            </tr><tr>\n",
       "                <td style=\"text-align:left; vertical-align:top;\">\n",
       "                    \n",
       "            <div style=\"text-align:left; vertical-align:top;\">\n",
       "                <p>Answer to Привіт Петре! Як справи? is 42<br />\n",
       "Згенеровано at 2023-12-17 12:05:03.127090!</p>\n",
       "\n",
       "            </div>\n",
       "        <div>\n",
       "        <b>duration (sec):</b> 0\n",
       "    </div>\n",
       "                </td>\n",
       "            </tr><tr>\n",
       "                <td style=\"text-align:left;\">\n",
       "                    <b>Inquery: Generate tons of code for me!</b>\n",
       "                </td>\n",
       "            </tr><tr>\n",
       "                <td style=\"text-align:left; vertical-align:top;\">\n",
       "                    \n",
       "            <div style=\"text-align:left; vertical-align:top;\">\n",
       "                <p>Answer to Generate tons of code for me! is 42<br />\n",
       "Згенеровано at 2023-12-17 12:05:03.127103!</p>\n",
       "\n",
       "            </div>\n",
       "        <div>\n",
       "        <b>duration (sec):</b> 0\n",
       "    </div>\n",
       "                </td>\n",
       "            </tr><tr>\n",
       "                <td style=\"text-align:left;\">\n",
       "                    <b>Inquery: Do something else!</b>\n",
       "                </td>\n",
       "            </tr><tr>\n",
       "                <td style=\"text-align:left; vertical-align:top;\">\n",
       "                    \n",
       "            <div style=\"text-align:left; vertical-align:top;\">\n",
       "                <p>Answer to Do something else! is 42<br />\n",
       "Згенеровано at 2023-12-17 12:05:03.127108!</p>\n",
       "\n",
       "            </div>\n",
       "        <div>\n",
       "        <b>duration (sec):</b> 0\n",
       "    </div>\n",
       "                </td>\n",
       "            </tr></table>"
      ],
      "text/plain": [
       "Snapshot(runs=[CaseRun(case=Case(inquery='Привіт Петре! Як справи?', meta=None), result=CaseRunResult(result='Answer to Привіт Петре! Як справи? is 42\\nЗгенеровано at 2023-12-17 12:05:03.127090!', meta={'duration (sec)': 0})), CaseRun(case=Case(inquery='Generate tons of code for me!', meta=None), result=CaseRunResult(result='Answer to Generate tons of code for me! is 42\\nЗгенеровано at 2023-12-17 12:05:03.127103!', meta={'duration (sec)': 0})), CaseRun(case=Case(inquery='Do something else!', meta=None), result=CaseRunResult(result='Answer to Do something else! is 42\\nЗгенеровано at 2023-12-17 12:05:03.127108!', meta={'duration (sec)': 0}))], meta={'time_stamp': datetime.datetime(2023, 12, 17, 12, 5, 3, 127081)})"
      ]
     },
     "execution_count": 2,
     "metadata": {},
     "output_type": "execute_result"
    }
   ],
   "source": [
    "# First run\n",
    "\n",
    "def generate_answer_1(case: Case) -> str:\n",
    "    from datetime import datetime\n",
    "    # Here should be call to LLM, or model, or API\n",
    "    return f\"\"\"Answer to {case.inquery} is 42\n",
    "Згенеровано at {datetime.now()}!\"\"\"\n",
    "\n",
    "prj.run_cases(\n",
    "    cases=cases,\n",
    "    runner=generate_answer_1\n",
    ")"
   ]
  },
  {
   "cell_type": "code",
   "execution_count": 3,
   "metadata": {
    "editable": true,
    "slideshow": {
     "slide_type": ""
    },
    "tags": []
   },
   "outputs": [
    {
     "data": {
      "text/html": [
       "<table style=\"text-align:left; width: 100%; table-layout: fixed\"><tr>\n",
       "            <td style=\"text-align:left; vertical-align:top;\">\n",
       "                <ul>\n",
       "<li><strong>time_stamp:</strong> 2023-12-17 12:05:05.161537</li>\n",
       "</ul>\n",
       "\n",
       "            </td><tr>\n",
       "                <td style=\"text-align:left;\">\n",
       "                    <b>Inquery: Привіт Петре! Як справи?</b>\n",
       "                </td>\n",
       "            </tr><tr>\n",
       "                <td style=\"text-align:left; vertical-align:top;\">\n",
       "                    \n",
       "            <div style=\"text-align:left; vertical-align:top;\">\n",
       "                <p>Answer to Привіт Петре! Як справи? is 84<br />\n",
       "Згенеровано at 2023-12-17 12:05:05.161616!</p>\n",
       "\n",
       "            </div>\n",
       "        <div>\n",
       "        <b>duration (sec):</b> 0\n",
       "    </div>\n",
       "                </td>\n",
       "            </tr><tr>\n",
       "                <td style=\"text-align:left;\">\n",
       "                    <b>Inquery: Generate tons of code for me!</b>\n",
       "                </td>\n",
       "            </tr><tr>\n",
       "                <td style=\"text-align:left; vertical-align:top;\">\n",
       "                    \n",
       "            <div style=\"text-align:left; vertical-align:top;\">\n",
       "                <p>Answer to Generate tons of code for me! is 84<br />\n",
       "Згенеровано at 2023-12-17 12:05:05.161702!</p>\n",
       "\n",
       "            </div>\n",
       "        <div>\n",
       "        <b>duration (sec):</b> 0\n",
       "    </div>\n",
       "                </td>\n",
       "            </tr><tr>\n",
       "                <td style=\"text-align:left;\">\n",
       "                    <b>Inquery: Do something else!</b>\n",
       "                </td>\n",
       "            </tr><tr>\n",
       "                <td style=\"text-align:left; vertical-align:top;\">\n",
       "                    \n",
       "            <div style=\"text-align:left; vertical-align:top;\">\n",
       "                <p>Answer to Do something else! is 84<br />\n",
       "Згенеровано at 2023-12-17 12:05:05.161718!</p>\n",
       "\n",
       "            </div>\n",
       "        <div>\n",
       "        <b>duration (sec):</b> 0\n",
       "    </div>\n",
       "                </td>\n",
       "            </tr></table>"
      ],
      "text/plain": [
       "Snapshot(runs=[CaseRun(case=Case(inquery='Привіт Петре! Як справи?', meta=None), result=CaseRunResult(result='Answer to Привіт Петре! Як справи? is 84\\nЗгенеровано at 2023-12-17 12:05:05.161616!', meta={'duration (sec)': 0})), CaseRun(case=Case(inquery='Generate tons of code for me!', meta=None), result=CaseRunResult(result='Answer to Generate tons of code for me! is 84\\nЗгенеровано at 2023-12-17 12:05:05.161702!', meta={'duration (sec)': 0})), CaseRun(case=Case(inquery='Do something else!', meta=None), result=CaseRunResult(result='Answer to Do something else! is 84\\nЗгенеровано at 2023-12-17 12:05:05.161718!', meta={'duration (sec)': 0}))], meta={'time_stamp': datetime.datetime(2023, 12, 17, 12, 5, 5, 161537)})"
      ]
     },
     "execution_count": 3,
     "metadata": {},
     "output_type": "execute_result"
    }
   ],
   "source": [
    "# Second run\n",
    "import time\n",
    "time.sleep(2)\n",
    "\n",
    "def generate_answer_2(case: Case) -> str:\n",
    "    from datetime import datetime\n",
    "    # Here should be call to LLM, or model, or API\n",
    "    return f\"\"\"Answer to {case.inquery} is 84\n",
    "Згенеровано at {datetime.now()}!\"\"\"\n",
    "\n",
    "prj.run_cases(\n",
    "    cases=cases,\n",
    "    runner=generate_answer_2\n",
    ")"
   ]
  },
  {
   "cell_type": "code",
   "execution_count": 4,
   "metadata": {
    "editable": true,
    "slideshow": {
     "slide_type": ""
    },
    "tags": []
   },
   "outputs": [
    {
     "data": {
      "text/html": [
       "<table style=\"text-align:left; width: 100%; table-layout: fixed\"><tr>\n",
       "            <td style=\"text-align:left; vertical-align:top;\">\n",
       "                <ul>\n",
       "<li><strong>time_stamp:</strong> 2023-12-17 11:44:13.974794</li>\n",
       "</ul>\n",
       "\n",
       "            </td>\n",
       "            \n",
       "            <td style=\"text-align:left; vertical-align:top;\">\n",
       "                <ul>\n",
       "<li><strong>time_stamp:</strong> 2023-12-17 11:43:12.891273</li>\n",
       "</ul>\n",
       "\n",
       "            </td>\n",
       "            </tr><tr>\n",
       "                <td style=\"text-align:left;\" colspan=\"2\">\n",
       "                    <b>Inquery: Привіт Петре! Як справи?</b>\n",
       "                </td>\n",
       "            </tr><tr>\n",
       "                <td style=\"text-align:left; vertical-align:top;\">\n",
       "                    \n",
       "            <div style=\"text-align:left; vertical-align:top;\">\n",
       "                <p>Answer to Привіт Петре! Як справи? is 42<br />\n",
       "Згенеровано at 2023-12-17 11:44:13.974802!</p>\n",
       "\n",
       "            </div>\n",
       "        <div>\n",
       "        <b>duration (sec):</b> 0\n",
       "    </div>\n",
       "                </td>\n",
       "                \n",
       "                <td style=\"text-align:left; vertical-align:top;\">\n",
       "                    \n",
       "            <div style=\"text-align:left; vertical-align:top;\">\n",
       "                <p>Answer to Привіт Петре! Як справи? is 84<br />\n",
       "Згенеровано at 2023-12-17 11:43:12.891301!</p>\n",
       "\n",
       "            </div>\n",
       "        <div>\n",
       "        <b>duration (sec):</b> 0\n",
       "    </div>\n",
       "                </td>\n",
       "                </tr><tr>\n",
       "                <td style=\"text-align:left;\" colspan=\"2\">\n",
       "                    <b>Inquery: Generate tons of code for me!</b>\n",
       "                </td>\n",
       "            </tr><tr>\n",
       "                <td style=\"text-align:left; vertical-align:top;\">\n",
       "                    \n",
       "            <div style=\"text-align:left; vertical-align:top;\">\n",
       "                <p>Answer to Generate tons of code for me! is 42<br />\n",
       "Згенеровано at 2023-12-17 11:44:13.974813!</p>\n",
       "\n",
       "            </div>\n",
       "        <div>\n",
       "        <b>duration (sec):</b> 0\n",
       "    </div>\n",
       "                </td>\n",
       "                \n",
       "                <td style=\"text-align:left; vertical-align:top;\">\n",
       "                    \n",
       "            <div style=\"text-align:left; vertical-align:top;\">\n",
       "                <p>Answer to Generate tons of code for me! is 84<br />\n",
       "Згенеровано at 2023-12-17 11:43:12.891329!</p>\n",
       "\n",
       "            </div>\n",
       "        <div>\n",
       "        <b>duration (sec):</b> 0\n",
       "    </div>\n",
       "                </td>\n",
       "                </tr><tr>\n",
       "                <td style=\"text-align:left;\" colspan=\"2\">\n",
       "                    <b>Inquery: Do something else!</b>\n",
       "                </td>\n",
       "            </tr><tr>\n",
       "                <td style=\"text-align:left; vertical-align:top;\">\n",
       "                    \n",
       "            <div style=\"text-align:left; vertical-align:top;\">\n",
       "                <p>Answer to Do something else! is 42<br />\n",
       "Згенеровано at 2023-12-17 11:44:13.974816!</p>\n",
       "\n",
       "            </div>\n",
       "        <div>\n",
       "        <b>duration (sec):</b> 0\n",
       "    </div>\n",
       "                </td>\n",
       "                \n",
       "                <td style=\"text-align:left; vertical-align:top;\">\n",
       "                    \n",
       "            <div style=\"text-align:left; vertical-align:top;\">\n",
       "                <p>Answer to Generate tons of code for me! is 84<br />\n",
       "Згенеровано at 2023-12-17 11:43:12.891335!</p>\n",
       "\n",
       "            </div>\n",
       "        <div>\n",
       "        <b>duration (sec):</b> 0\n",
       "    </div>\n",
       "                </td>\n",
       "                </tr></table>"
      ],
      "text/plain": [
       "<langsnapy.compare_results.CompareResults at 0x104e11050>"
      ]
     },
     "execution_count": 4,
     "metadata": {},
     "output_type": "execute_result"
    }
   ],
   "source": [
    "prj.compare_last_two_snapshots()"
   ]
  },
  {
   "cell_type": "code",
   "execution_count": null,
   "metadata": {
    "editable": true,
    "slideshow": {
     "slide_type": ""
    },
    "tags": []
   },
   "outputs": [],
   "source": []
  }
 ],
 "metadata": {
  "kernelspec": {
   "display_name": "Python 3 (ipykernel)",
   "language": "python",
   "name": "python3"
  },
  "language_info": {
   "codemirror_mode": {
    "name": "ipython",
    "version": 3
   },
   "file_extension": ".py",
   "mimetype": "text/x-python",
   "name": "python",
   "nbconvert_exporter": "python",
   "pygments_lexer": "ipython3",
   "version": "3.11.6"
  }
 },
 "nbformat": 4,
 "nbformat_minor": 4
}
