{
 "cells": [
  {
   "cell_type": "code",
   "execution_count": 1,
   "metadata": {},
   "outputs": [],
   "source": [
    "from pathlib import Path\n",
    "from langsnapy import Project, Case\n",
    "\n",
    "prj = Project(\n",
    "    snapshot_folder_path=Path(\"./local-example-snapshots\")\n",
    ")\n",
    "\n",
    "questions = [\n",
    "    \"Привіт Петре! Як справи?\",\n",
    "    \"Generate tons of code for me!\",\n",
    "]\n",
    "\n",
    "cases = [Case(q) for q in questions]"
   ]
  },
  {
   "cell_type": "code",
   "execution_count": 2,
   "metadata": {},
   "outputs": [
    {
     "data": {
      "text/plain": [
       "Snapshot(runs=[CaseRun(case=Case(inquery='Привіт Петре! Як справи?', meta=None), result=CaseRunResult(result='Answer to Привіт Петре! Як справи? is 42\\nЗгенеровано at 2023-12-15 13:54:57.821789!', meta=None)), CaseRun(case=Case(inquery='Generate tons of code for me!', meta=None), result=CaseRunResult(result='Answer to Generate tons of code for me! is 42\\nЗгенеровано at 2023-12-15 13:54:57.821799!', meta=None))], meta={'time_stamp': datetime.datetime(2023, 12, 15, 13, 54, 57, 821773)})"
      ]
     },
     "execution_count": 2,
     "metadata": {},
     "output_type": "execute_result"
    }
   ],
   "source": [
    "# First run\n",
    "\n",
    "def generate_answer_1(case: Case) -> str:\n",
    "    from datetime import datetime\n",
    "    # Here should be call to LLM, or model, or API\n",
    "    return f\"\"\"Answer to {case.inquery} is 42\n",
    "Згенеровано at {datetime.now()}!\"\"\"\n",
    "\n",
    "prj.run_cases(\n",
    "    cases=cases,\n",
    "    runner=generate_answer_1\n",
    ")"
   ]
  },
  {
   "cell_type": "code",
   "execution_count": 3,
   "metadata": {},
   "outputs": [
    {
     "data": {
      "text/plain": [
       "Snapshot(runs=[CaseRun(case=Case(inquery='Привіт Петре! Як справи?', meta=None), result=CaseRunResult(result='Answer to Привіт Петре! Як справи? is 84\\nЗгенеровано at 2023-12-15 13:54:57.838483!', meta=None)), CaseRun(case=Case(inquery='Generate tons of code for me!', meta=None), result=CaseRunResult(result='Answer to Generate tons of code for me! is 84\\nЗгенеровано at 2023-12-15 13:54:57.838492!', meta=None))], meta={'time_stamp': datetime.datetime(2023, 12, 15, 13, 54, 57, 838473)})"
      ]
     },
     "execution_count": 3,
     "metadata": {},
     "output_type": "execute_result"
    }
   ],
   "source": [
    "# Second run\n",
    "\n",
    "def generate_answer_2(case: Case) -> str:\n",
    "    from datetime import datetime\n",
    "    # Here should be call to LLM, or model, or API\n",
    "    return f\"\"\"Answer to {case.inquery} is 84\n",
    "Згенеровано at {datetime.now()}!\"\"\"\n",
    "\n",
    "prj.run_cases(\n",
    "    cases=cases,\n",
    "    runner=generate_answer_2\n",
    ")"
   ]
  },
  {
   "cell_type": "code",
   "execution_count": 4,
   "metadata": {},
   "outputs": [
    {
     "data": {
      "text/html": [
       "<table style=\"text-align:left;\"><tr>\n",
       "            <td style=\"text-align:left; vertical-align:top;\">\n",
       "                <ul>\n",
       "<li><strong>time_stamp:</strong> 2023-12-15 13:54:57.838473</li>\n",
       "</ul>\n",
       "\n",
       "            </td>\n",
       "            \n",
       "            <td style=\"text-align:left; vertical-align:top;\">\n",
       "                <ul>\n",
       "<li><strong>time_stamp:</strong> 2023-12-15 13:26:32.802849</li>\n",
       "</ul>\n",
       "\n",
       "            </td>\n",
       "            </tr><tr>\n",
       "                <td style=\"text-align:left;\" colspan=\"2\">\n",
       "                    <b>Inquery: Привіт Петре! Як справи?</b>\n",
       "                </td>\n",
       "            </tr><tr>\n",
       "                <td style=\"text-align:left; vertical-align:top;\">\n",
       "                    <div data-mime-type=\"text/markdown\" style=\"text-align:left; vertical-align:top;\">\n",
       "                        <p>Answer to Привіт Петре! Як справи? is 84<br />\n",
       "Згенеровано at 2023-12-15 13:54:57.838483!</p>\n",
       "\n",
       "                    </div>\n",
       "                </td>\n",
       "                \n",
       "                <td style=\"text-align:left; vertical-align:top;\">\n",
       "                    <div data-mime-type=\"text/markdown\" style=\"text-align:left; vertical-align:top;\">\n",
       "                        <p>Answer to Привіт Петре! Як справи? is 84<br />\n",
       "Згенеровано at 2023-12-15 13:26:32.802855!</p>\n",
       "\n",
       "                    </div>\n",
       "                </td>\n",
       "                </tr><tr>\n",
       "                <td style=\"text-align:left;\" colspan=\"2\">\n",
       "                    <b>Inquery: Generate tons of code for me!</b>\n",
       "                </td>\n",
       "            </tr><tr>\n",
       "                <td style=\"text-align:left; vertical-align:top;\">\n",
       "                    <div data-mime-type=\"text/markdown\" style=\"text-align:left; vertical-align:top;\">\n",
       "                        <p>Answer to Generate tons of code for me! is 84<br />\n",
       "Згенеровано at 2023-12-15 13:54:57.838492!</p>\n",
       "\n",
       "                    </div>\n",
       "                </td>\n",
       "                \n",
       "                <td style=\"text-align:left; vertical-align:top;\">\n",
       "                    <div data-mime-type=\"text/markdown\" style=\"text-align:left; vertical-align:top;\">\n",
       "                        <p>Answer to Generate tons of code for me! is 84<br />\n",
       "Згенеровано at 2023-12-15 13:26:32.802863!</p>\n",
       "\n",
       "                    </div>\n",
       "                </td>\n",
       "                </tr></table>"
      ],
      "text/plain": [
       "<langsnapy.CompareResults at 0x105cdcc50>"
      ]
     },
     "execution_count": 4,
     "metadata": {},
     "output_type": "execute_result"
    }
   ],
   "source": [
    "prj.compare_last_two_snapshots()"
   ]
  },
  {
   "cell_type": "code",
   "execution_count": null,
   "metadata": {},
   "outputs": [],
   "source": []
  }
 ],
 "metadata": {
  "kernelspec": {
   "display_name": "Python 3 (ipykernel)",
   "language": "python",
   "name": "python3"
  },
  "language_info": {
   "codemirror_mode": {
    "name": "ipython",
    "version": 3
   },
   "file_extension": ".py",
   "mimetype": "text/x-python",
   "name": "python",
   "nbconvert_exporter": "python",
   "pygments_lexer": "ipython3",
   "version": "3.11.6"
  }
 },
 "nbformat": 4,
 "nbformat_minor": 4
}
